{
 "cells": [
  {
   "cell_type": "code",
   "execution_count": 1,
   "metadata": {},
   "outputs": [],
   "source": [
    "from selenium import webdriver\n",
    "import csv\n",
    "\n",
    "options = webdriver.ChromeOptions()\n",
    "options.headless = True\n",
    "path = \"C:\\\\Users\\\\Dishant\\\\Desktop\\\\chromedriver\\\\chromedriver\"\n",
    "browser = webdriver.Chrome(executable_path = path , options = options)\n",
    "browser.get(\"https://www.flipkart.com/men/tshirts/pr?sid=2oq%2Cs9b%2Cj9y&otracker=nmenu_sub_Men_0_T-Shirts\")\n"
   ]
  },
  {
   "cell_type": "code",
   "execution_count": 2,
   "metadata": {},
   "outputs": [],
   "source": [
    "b_n=[]\n",
    "p=[]\n",
    "a=[]\n",
    "p_e=[]\n",
    "dis=[]\n",
    "mrp=[]\n",
    "cur_p=[]\n",
    "\n",
    "for i in range(40):\n",
    "    b_n.append(browser.execute_script(\"return document.getElementsByClassName('_2B_pmu')[\"+str(i)+\"].innerText\"))\n",
    "    p_e.append(browser.execute_script(\"return document.getElementsByClassName('_2mylT6')[\"+str(i)+\"].innerText\"))\n",
    "    a.append(browser.execute_script(\"return document.getElementsByClassName('_2LFGJH')[\" +str(i)+ \"].innerText\"))\n",
    "    dis.append(browser.execute_script(\"return document.getElementsByClassName('VGWI6T')[\" +str(i)+ \"].innerText\"))\n",
    "    mrp.append(browser.execute_script(\"return document.getElementsByClassName('_3auQ3N')[\" +str(i)+ \"].innerText\"))\n",
    "    cur_p.append(a[i].split(\"₹\")[1])\n"
   ]
  },
  {
   "cell_type": "code",
   "execution_count": 3,
   "metadata": {},
   "outputs": [],
   "source": [
    "for k in range(len(b_n)):\n",
    "    v=b_n[k]\n",
    "    w=p_e[k]\n",
    "    x=cur_p[k]\n",
    "    y=dis[k]\n",
    "    z=mrp[k]\n",
    "    with open(\"flipkart_data.csv\",\"a\",encoding=\"utf-8\",newline=\"\") as f:\n",
    "        writer=csv.writer(f,delimiter=\",\")\n",
    "        writer.writerow([v,w,x,y,z])\n",
    "        if(k==40):\n",
    "            break\n",
    "    f.close()"
   ]
  }
 ],
 "metadata": {
  "kernelspec": {
   "display_name": "Python 3",
   "language": "python",
   "name": "python3"
  },
  "language_info": {
   "codemirror_mode": {
    "name": "ipython",
    "version": 3
   },
   "file_extension": ".py",
   "mimetype": "text/x-python",
   "name": "python",
   "nbconvert_exporter": "python",
   "pygments_lexer": "ipython3",
   "version": "3.7.7"
  }
 },
 "nbformat": 4,
 "nbformat_minor": 2
}
