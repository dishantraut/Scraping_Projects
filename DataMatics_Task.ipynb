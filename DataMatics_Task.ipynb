{
 "cells": [
  {
   "cell_type": "code",
   "execution_count": 2,
   "metadata": {},
   "outputs": [],
   "source": [
    "\"\"\"\n",
    "# Steps :-\n",
    "\n",
    "*Make sure you have chromedriver & chrome installed in your system\n",
    "*pip install selenium\n",
    "\n",
    "1. Make a directory called as \"test\" on D drive\n",
    "2. Open CMD & Paste the below command\n",
    "3. chrome.exe --remote-debugging-port=7979 --user-data-dir=\"D:\\test\"\n",
    "4. Once browser is opened visit \"https://login.yahoo.com/\"\n",
    "5. Enter the path of chromedriver.exe in front of the path variable\n",
    "6. Run the below code\n",
    "\n",
    "\"\"\"\n",
    "\n",
    "from selenium import webdriver\n",
    "from selenium.webdriver.common.by import By\n",
    "from selenium.webdriver.chrome.options import Options\n",
    "from selenium.common.exceptions import TimeoutException\n",
    "from selenium.webdriver.support.ui import WebDriverWait\n",
    "from selenium.webdriver.support import expected_conditions as EC\n",
    "\n",
    "# Enter your PC's path to chromedriver.exe before execution\n",
    "path = r\"C:\\Users\\disha\\AppData\\Local\\Programs\\Python\\Python39\\Scripts\\chromedriver.exe\"\n",
    "\n",
    "options = Options()\n",
    "options.add_experimental_option(\"debuggerAddress\", \"localhost:7979\")\n",
    "driver = webdriver.Chrome(\n",
    "    executable_path=path,\n",
    "    options=options)\n",
    "\n",
    "timeout = 10\n",
    "try:\n",
    "    element_present = EC.presence_of_element_located((By.ID, 'login-username'))\n",
    "    WebDriverWait(driver, timeout).until(element_present)\n",
    "    # Below line can be uncommented for unchecking the checkbox of 'stay signed in'\n",
    "    # driver.find_element(By.XPATH, '//*[@id=\"login-username-form\"]/div[3]/div[1]/span/label').click()\n",
    "    driver.find_element(By.ID, \"login-username\").clear()\n",
    "    driver.find_element(By.ID, \"login-username\").send_keys(\"demodemo501\")\n",
    "    driver.find_element(By.ID, \"login-signin\").click()\n",
    "except TimeoutException:\n",
    "    print(\"Timed out waiting for page to load\")\n",
    "\n",
    "timeout = 10\n",
    "try:\n",
    "    element_present = EC.presence_of_element_located((By.ID, 'login-passwd'))\n",
    "    WebDriverWait(driver, timeout).until(element_present)\n",
    "    driver.find_element(By.ID, \"login-passwd\").clear()\n",
    "    driver.find_element(By.ID, \"login-passwd\").send_keys(\"OMED@123#\")\n",
    "    driver.find_element(By.ID, \"login-signin\").click()\n",
    "except TimeoutException:\n",
    "    print(\"Timed out waiting for page to load\")\n"
   ]
  },
  {
   "cell_type": "code",
   "execution_count": null,
   "metadata": {},
   "outputs": [],
   "source": []
  }
 ],
 "metadata": {
  "kernelspec": {
   "display_name": "Python 3",
   "language": "python",
   "name": "python3"
  },
  "language_info": {
   "codemirror_mode": {
    "name": "ipython",
    "version": 3
   },
   "file_extension": ".py",
   "mimetype": "text/x-python",
   "name": "python",
   "nbconvert_exporter": "python",
   "pygments_lexer": "ipython3",
   "version": "3.8.5"
  }
 },
 "nbformat": 4,
 "nbformat_minor": 4
}
