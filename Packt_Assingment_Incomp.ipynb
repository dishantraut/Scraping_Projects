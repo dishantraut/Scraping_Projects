{
 "cells": [
  {
   "cell_type": "code",
   "execution_count": null,
   "metadata": {},
   "outputs": [],
   "source": [
    "# https://docs.google.com/document/d/1ULV5UY4Orx1keCvIvTzU85ljsmcJ2w_4/edit"
   ]
  },
  {
   "cell_type": "code",
   "execution_count": 1,
   "metadata": {},
   "outputs": [
    {
     "name": "stdout",
     "output_type": "stream",
     "text": [
      "9b3a0fec09f9b6e86cff6342c257e6d3\n",
      "http://127.0.0.1:63218\n"
     ]
    }
   ],
   "source": [
    "from selenium.webdriver.common.action_chains import ActionChains\n",
    "from selenium.webdriver.support import expected_conditions as EC\n",
    "from selenium.common.exceptions import TimeoutException\n",
    "from selenium.webdriver.support.ui import WebDriverWait\n",
    "from selenium.webdriver.common.keys import Keys\n",
    "from selenium.webdriver.common.by import By\n",
    "from selenium.webdriver import ActionChains\n",
    "import selenium.webdriver.support.ui as ui\n",
    "from pdf2image import convert_from_path\n",
    "from selenium import webdriver\n",
    "from bs4 import BeautifulSoup\n",
    "from datetime import date\n",
    "from PIL import Image \n",
    "import pandas as pd\n",
    "import pytesseract\n",
    "import requests\n",
    "import random\n",
    "import shutil\n",
    "import glob\n",
    "import json\n",
    "import fire\n",
    "import time\n",
    "import csv\n",
    "import sys\n",
    "import os\n",
    "import re\n",
    "\n",
    "pytesseract.pytesseract.tesseract_cmd = r'E:\\Tesseract-OCR\\tesseract.exe'\n",
    "base_dir = os.path.abspath(os.path.dirname(\"__file__\"))\n",
    "os.environ[\"LANG\"] = \"en_US.UTF-8\"\n",
    "\n",
    "# 192.41.71.199:3128   50.246.120.125:8080  157.230.44.213:8080   74.121.98.90:8080   192.41.71.221:3128 \n",
    "# 74.121.98.90:8080  192.144.215.244:3128\n",
    "PROXY =     \"192.41.71.199:3128\"   \n",
    "\n",
    "options = webdriver.ChromeOptions()\n",
    "appState = {\n",
    "    \"recentDestinations\": [\n",
    "        {\n",
    "            \"id\": \"Save as PDF\",\n",
    "            \"origin\": \"local\",\n",
    "            \"account\": \"\"\n",
    "        }\n",
    "    ],\n",
    "    \"selectedDestinationId\": \"Save as PDF\",\n",
    "    \"version\": 2\n",
    "}\n",
    "profile = {'printing.print_preview_sticky_settings.appState': json.dumps(appState)}\n",
    "options.add_experimental_option('prefs',  {\n",
    "    \"download.default_directory\": base_dir,\n",
    "    \"download.prompt_for_download\": False,\n",
    "    \"download.directory_upgrade\": True,\n",
    "    \"plugins.always_open_pdf_externally\": True\n",
    "    }\n",
    ")\n",
    "options.headless = False \n",
    "# options.add_argument('--proxy-server=%s' % PROXY)\n",
    "options.add_experimental_option('prefs', profile)\n",
    "options.add_argument('--kiosk-printing')\n",
    "# options.binary_location = r\"C:\\Program Files (x86)\\Google\\Chrome\\Application\\chrome.exe\"\n",
    "\n",
    "driver = webdriver.Chrome(executable_path = r'D:\\Chromedriver\\chromedriver.exe' ,options=options)\n",
    "driver.maximize_window()\n",
    "driver.get(\"https://www.gfxtra31.com/programming-books/\")\n",
    "\n",
    "\n",
    "# GET SESSION ID & URL\n",
    "executor_url = driver.command_executor._url\n",
    "session_id = driver.session_id\n",
    "print(session_id)\n",
    "print(executor_url)\n"
   ]
  },
  {
   "cell_type": "code",
   "execution_count": 4,
   "metadata": {},
   "outputs": [],
   "source": [
    "Prod_Name,Prod_URL,Filehoster_URL = [],[],[] \n",
    "for i1 in range(24):\n",
    "    #Prod_Name.append\n",
    "    Prod_Name.append(driver.execute_script('return document.getElementsByClassName(\"baslik\")['+str(i1)+'].innerText').split('\\n')[0])\n",
    "    href = driver.execute_script('return document.getElementsByClassName(\"baslik\")['+str(i1)+'].innerHTML').split('href=')[1].split('>')[0].replace('\"','')\n",
    "    #Prod_URL.append\n",
    "    Prod_URL.append(href)\n",
    "    driver.execute_script('window.open();')\n",
    "    driver.switch_to.window(driver.window_handles[1])\n",
    "    driver.get(href)\n",
    "    time.sleep(2)\n",
    "    \"\"\" COLLECT SOUP \"\"\"\n",
    "    content = driver.page_source\n",
    "    soup = BeautifulSoup(content, \"html.parser\")\n",
    "\n",
    "    demo = str(soup.findAll('div',attrs={'style':'display:inline;'})[0]).split('display:inline;')[0].split('div id')[1].split('style')[0].replace(' ','')\n",
    "\n",
    "    try:\n",
    "        try:\n",
    "            driver.find_element_by_xpath('//*[@id'+str(demo)+']/p[2]/a').click()\n",
    "        except Exception as e:\n",
    "            driver.find_element_by_xpath('//*[@id'+str(demo)+']/p[3]/strong/a').click()\n",
    "    except Exception as e:\n",
    "        try:\n",
    "            driver.find_element_by_xpath('//*[@id'+str(demo)+']/div/a').click()\n",
    "        except Exception as e:\n",
    "            driver.find_element_by_xpath('//*[@id'+str(demo)+']/p/a').click()\n",
    "    \n",
    "    #Filehoster_URL.append\n",
    "    Filehoster_URL.append(driver.current_url)\n",
    "    driver.close()\n",
    "    driver.switch_to.window(driver.window_handles[0])\n",
    "    \n",
    "data = pd.DataFrame({'Product_Name':Prod_Name,'Product_URL':Prod_URL,'File_Hoster_URL':Filehoster_URL})\n",
    "data"
   ]
  },
  {
   "cell_type": "code",
   "execution_count": null,
   "metadata": {},
   "outputs": [],
   "source": []
  },
  {
   "cell_type": "code",
   "execution_count": 3,
   "metadata": {},
   "outputs": [],
   "source": [
    "# driver.switch_to.window(driver.window_handles[0])"
   ]
  },
  {
   "cell_type": "code",
   "execution_count": null,
   "metadata": {},
   "outputs": [],
   "source": []
  },
  {
   "cell_type": "code",
   "execution_count": null,
   "metadata": {},
   "outputs": [],
   "source": []
  },
  {
   "cell_type": "code",
   "execution_count": null,
   "metadata": {},
   "outputs": [],
   "source": []
  },
  {
   "cell_type": "code",
   "execution_count": null,
   "metadata": {},
   "outputs": [],
   "source": []
  }
 ],
 "metadata": {
  "kernelspec": {
   "display_name": "Python 3",
   "language": "python",
   "name": "python3"
  },
  "language_info": {
   "codemirror_mode": {
    "name": "ipython",
    "version": 3
   },
   "file_extension": ".py",
   "mimetype": "text/x-python",
   "name": "python",
   "nbconvert_exporter": "python",
   "pygments_lexer": "ipython3",
   "version": "3.8.5"
  }
 },
 "nbformat": 4,
 "nbformat_minor": 4
}
