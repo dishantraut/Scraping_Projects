{
 "cells": [
  {
   "cell_type": "code",
   "execution_count": 2,
   "metadata": {},
   "outputs": [],
   "source": [
    "from selenium import webdriver      #for running the headless browser 'chromedriver'\n",
    "import csv                          #to read and write a CSV file\n",
    "import os                           #to operate with the os\n",
    "\n",
    "\n",
    "options=webdriver.ChromeOptions()\n",
    "options.headless=True\n",
    "p=\"C:\\\\Users\\\\Dishant\\\\Desktop\\\\chromedriver\\\\chromedriver\"\n",
    "browser=webdriver.Chrome(executable_path=p,options=options)\n",
    "browser.get(\"https://www.myntra.com/men-tshirts\")\n",
    "\n",
    "\n",
    "brand=[]\n",
    "product=[]\n",
    "price=[]\n",
    "for i in range(50):\n",
    "    brand.append(browser.execute_script(\"return document.getElementsByClassName('product-brand')[\"+str(i)+\"].innerText\"))\n",
    "    product.append(browser.execute_script(\"return document.getElementsByClassName('product-product')[ \"+str(i)+\"].innerText\"))\n",
    "    price.append(browser.execute_script(\"return document.getElementsByClassName('product-price')[ \"+str(i)+\"].innerText\"))\n",
    "product\n",
    "\n",
    "\n",
    "current_price=[]\n",
    "mrp=[]\n",
    "discount_percentage=[]\n",
    "for i in range(len(price)):\n",
    "    try:\n",
    "        main_split=price[i].split('R')\n",
    "        current_price.append(main_split[1].split(' ')[1])\n",
    "        splt2=main_split[2].split()[1].split('(')\n",
    "        mrp.append(splt2[0])\n",
    "        discount_percentage.append(splt2[1])\n",
    "    except:\n",
    "        mrp.append(\"NA\")\n",
    "        discount_percentage.append(\"NA\")\n",
    "\n",
    "\n",
    "\n",
    "for i in range(len(mrp)):\n",
    "    v=brand[i]\n",
    "    w=product[i]\n",
    "    x=current_price[i]\n",
    "    y=mrp[i]\n",
    "    z=discount_percentage[i]\n",
    "    with open(\"myntra_data.csv\",\"a\",newline=\"\") as f:\n",
    "        writer=csv.writer(f,delimiter=\",\")\n",
    "        writer.writerow([v,w,x,y,z])\n",
    "    f.close()\n",
    "    \n",
    "    \n",
    "    "
   ]
  },
  {
   "cell_type": "code",
   "execution_count": 3,
   "metadata": {},
   "outputs": [
    {
     "data": {
      "text/plain": [
       "(50, 50, 50, 50, 50)"
      ]
     },
     "execution_count": 3,
     "metadata": {},
     "output_type": "execute_result"
    }
   ],
   "source": [
    "len(brand),len(product),len(current_price),len(mrp),len(discount_percentage)"
   ]
  },
  {
   "cell_type": "code",
   "execution_count": null,
   "metadata": {},
   "outputs": [],
   "source": []
  },
  {
   "cell_type": "code",
   "execution_count": 9,
   "metadata": {},
   "outputs": [],
   "source": []
  },
  {
   "cell_type": "code",
   "execution_count": 10,
   "metadata": {},
   "outputs": [],
   "source": []
  },
  {
   "cell_type": "code",
   "execution_count": null,
   "metadata": {},
   "outputs": [],
   "source": [
    "\n"
   ]
  },
  {
   "cell_type": "code",
   "execution_count": null,
   "metadata": {},
   "outputs": [],
   "source": []
  },
  {
   "cell_type": "code",
   "execution_count": 71,
   "metadata": {},
   "outputs": [],
   "source": []
  },
  {
   "cell_type": "code",
   "execution_count": null,
   "metadata": {},
   "outputs": [],
   "source": []
  },
  {
   "cell_type": "code",
   "execution_count": null,
   "metadata": {},
   "outputs": [],
   "source": []
  },
  {
   "cell_type": "code",
   "execution_count": null,
   "metadata": {},
   "outputs": [],
   "source": []
  },
  {
   "cell_type": "code",
   "execution_count": null,
   "metadata": {},
   "outputs": [],
   "source": []
  },
  {
   "cell_type": "code",
   "execution_count": null,
   "metadata": {},
   "outputs": [],
   "source": []
  },
  {
   "cell_type": "code",
   "execution_count": null,
   "metadata": {},
   "outputs": [],
   "source": []
  },
  {
   "cell_type": "code",
   "execution_count": null,
   "metadata": {},
   "outputs": [],
   "source": []
  },
  {
   "cell_type": "code",
   "execution_count": null,
   "metadata": {},
   "outputs": [],
   "source": []
  },
  {
   "cell_type": "code",
   "execution_count": null,
   "metadata": {},
   "outputs": [],
   "source": []
  },
  {
   "cell_type": "code",
   "execution_count": null,
   "metadata": {},
   "outputs": [],
   "source": []
  },
  {
   "cell_type": "code",
   "execution_count": null,
   "metadata": {},
   "outputs": [],
   "source": []
  },
  {
   "cell_type": "code",
   "execution_count": null,
   "metadata": {},
   "outputs": [],
   "source": []
  },
  {
   "cell_type": "code",
   "execution_count": null,
   "metadata": {},
   "outputs": [],
   "source": []
  }
 ],
 "metadata": {
  "kernelspec": {
   "display_name": "Python 3",
   "language": "python",
   "name": "python3"
  },
  "language_info": {
   "codemirror_mode": {
    "name": "ipython",
    "version": 3
   },
   "file_extension": ".py",
   "mimetype": "text/x-python",
   "name": "python",
   "nbconvert_exporter": "python",
   "pygments_lexer": "ipython3",
   "version": "3.7.3"
  }
 },
 "nbformat": 4,
 "nbformat_minor": 2
}
