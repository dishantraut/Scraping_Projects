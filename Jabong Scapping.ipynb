{
 "cells": [
  {
   "cell_type": "code",
   "execution_count": 1,
   "metadata": {},
   "outputs": [],
   "source": [
    "from selenium import webdriver      \n",
    "import csv "
   ]
  },
  {
   "cell_type": "code",
   "execution_count": 2,
   "metadata": {},
   "outputs": [],
   "source": [
    "options=webdriver.ChromeOptions()\n",
    "options.headless=False\n",
    "p=\"C:\\\\Users\\\\Dishant\\\\Desktop\\\\chromedriver\\\\chromedriver\"\n",
    "browser=webdriver.Chrome(executable_path=p,options=options)"
   ]
  },
  {
   "cell_type": "code",
   "execution_count": 3,
   "metadata": {},
   "outputs": [],
   "source": [
    "browser.get(\"https://www.jabong.com/tshirts?f=Gender%3Amen\")"
   ]
  },
  {
   "cell_type": "code",
   "execution_count": 4,
   "metadata": {
    "collapsed": true
   },
   "outputs": [
    {
     "data": {
      "text/plain": [
       "['MODA RAPIDO Black & White Colourblocked Round Neck T-Shirt\\n599',\n",
       " 'MODA RAPIDO Green Printed Round Neck T-Shirt\\n649',\n",
       " 'MODA RAPIDO White & Black Striped Polo Collar T-Shirt\\n899',\n",
       " 'MODA RAPIDO Black Printed Polo Collar T-Shirt\\n899',\n",
       " 'ROADSTER Black Printed T-Shirt\\n599',\n",
       " 'HARVARD Grey Melange Solid Round Neck T-Shirt\\n699',\n",
       " 'HARVARD Navy Blue Printed Round Neck T-Shirt\\n999',\n",
       " 'HARVARD Black & White Colourblocked Round Neck T-Shirt\\n749',\n",
       " 'HARVARD Grey Melange Solid Round Neck T-Shirt\\n699',\n",
       " 'KOOK N KEECH STAR WARS White Printed Round Neck T-Shirt\\n699',\n",
       " 'JUSTICE LEAGUE Blue Printed Round Neck T-Shirt\\n599',\n",
       " 'MAST & HARBOUR Black Printed Round Neck T-Shirt\\n599',\n",
       " 'MAST & HARBOUR Black Printed Round Neck T-Shirt\\n699',\n",
       " 'HARVARD Grey Solid Round Neck T-Shirt\\n699',\n",
       " 'HARVARD White & Navy Blue Striped Round Neck T-Shirt\\n799',\n",
       " 'ROADSTER Grey Melange Solid Round Neck T-Shirt\\n599',\n",
       " 'ROADSTER Black Printed Round Neck T-Shirt\\n599',\n",
       " 'ROADSTER Charcoal Grey & Maroon Striped Mandarin Collar T-Shirt\\n1099',\n",
       " 'ROADSTER Olive Green Self Design Round Neck T-Shirt\\n799 319 (60% OFF)',\n",
       " 'ROADSTER Coffee Brown Self Design Round Neck T-Shirt\\n799 319 (60% OFF)',\n",
       " 'ROADSTER Coffee Brown Self Design Round Neck T-Shirt\\n799 319 (60% OFF)',\n",
       " 'ROADSTER Coffee Brown Typography Applique Round Neck T-Shirt\\n799 319 (60% OFF)',\n",
       " 'ROADSTER Olive Green Self Design Round Neck T-Shirt\\n799',\n",
       " 'MODA RAPIDO Brown & White Striped Round Neck T-Shirt\\n699 279 (60% OFF)',\n",
       " 'MODA RAPIDO White & Burgundy Striped Round Neck T-Shirt\\n699 279 (60% OFF)',\n",
       " 'MAST & HARBOUR White Printed Round Neck T-Shirt\\n699',\n",
       " 'MAST & HARBOUR Navy Printed Round Neck T-Shirt\\n599',\n",
       " 'MAST & HARBOUR Navy Blue Printed T-Shirt\\n699',\n",
       " 'MAST & HARBOUR Rust Orange Solid Polo Collar T-Shirt\\n1299 389 (70% OFF)',\n",
       " 'MAST & HARBOUR Teal Blue Solid Round Neck T-Shirt\\n699',\n",
       " 'KOOK N KEECH White Printed Round Neck T-Shirt\\n899',\n",
       " 'ROADSTER Maroon Printed Round Neck T-Shirt\\n599',\n",
       " 'ROADSTER Maroon Printed Round Neck T-Shirt\\n599',\n",
       " 'ROADSTER Green Printed Round Neck T-Shirt\\n599',\n",
       " 'ROADSTER Blue Printed Round Neck T-Shirt\\n599',\n",
       " 'FLYING MACHINE Peach-Coloured Printed Round Neck T-Shirt\\n999',\n",
       " 'MODA RAPIDO Nude-Coloured & Brown Printed Round Neck T-Shirt\\n499',\n",
       " 'ROADSTER Blue & White Striped Round Neck T-Shirt\\n799 239 (70% OFF)',\n",
       " 'HERE&NOW White & Black Striped Round Neck T-Shirt\\n899',\n",
       " 'MODA RAPIDO Black Printed Round Neck T-Shirt\\n599',\n",
       " 'HARVARD Blue Solid Polo Collar T-Shirt\\n999',\n",
       " 'ROADSTER Grey Printed Round Neck T-Shirt\\n599',\n",
       " 'ROADSTER Black & Grey Striped Round Neck T-Shirt\\n599 239 (60% OFF)',\n",
       " 'ROADSTER Red & Grey Striped Round Neck T-Shirt\\n799 239 (70% OFF)',\n",
       " 'MODA RAPIDO White Printed Polo Collar T-Shirt\\n899 359 (60% OFF)',\n",
       " 'ROADSTER Teal Blue & Black Striped Round Neck T-Shirt\\n699',\n",
       " 'HARVARD T-Shirt\\n699 279 (60% OFF)',\n",
       " 'ROADSTER Olive Green & Off-White Printed Round Neck T-Shirt\\n699',\n",
       " 'BEING HUMAN Black Printed T-Shirt\\n999',\n",
       " 'MAST & HARBOUR Orange Striped Round Neck T-Shirt\\n899 269 (70% OFF)']"
      ]
     },
     "execution_count": 4,
     "metadata": {},
     "output_type": "execute_result"
    }
   ],
   "source": [
    "info=[]\n",
    "for i in range(1,51):\n",
    "    info.append(browser.execute_script(\"return document.getElementsByClassName('product-info')[\"+str(i)+\"].innerText\"))\n",
    "info"
   ]
  },
  {
   "cell_type": "code",
   "execution_count": 5,
   "metadata": {},
   "outputs": [],
   "source": [
    "brand=[]\n",
    "product=[]\n",
    "mrp=[]\n",
    "disc_price=[]\n",
    "for i in info:\n",
    "    split=i.split('\\n')\n",
    "    prod_str=split[0].split(' ')\n",
    "    bname=''\n",
    "    pname=''\n",
    "    for j in prod_str:\n",
    "        if j.isupper():\n",
    "            bname+=j+' '\n",
    "        elif j==\"&\":\n",
    "            bname+=j+' '\n",
    "        else:\n",
    "            pname+=j+' '\n",
    "    brand.append(bname.strip())\n",
    "    product.append(pname.strip())\n",
    "    try:\n",
    "        price_info=split[1].split(' ')\n",
    "        mrp.append(price_info[0])\n",
    "        disc_price(price_info[1])\n",
    "    except:\n",
    "        disc_price.append(\"NA\")     "
   ]
  },
  {
   "cell_type": "code",
   "execution_count": 6,
   "metadata": {},
   "outputs": [
    {
     "data": {
      "text/plain": [
       "(50, 50, 50, 50)"
      ]
     },
     "execution_count": 6,
     "metadata": {},
     "output_type": "execute_result"
    }
   ],
   "source": [
    "len(brand),len(product),len(mrp),len(disc_price)"
   ]
  },
  {
   "cell_type": "code",
   "execution_count": 7,
   "metadata": {},
   "outputs": [],
   "source": [
    "for i in range(50):    \n",
    "    u = brand[i]\n",
    "    v = product[i]\n",
    "    w = mrp[i]\n",
    "    x = disc_price[i]\n",
    "    with open(\"Jabong_data.csv\",\"a\",newline = \"\") as f:\n",
    "        writer = csv.writer(f , delimiter = \",\")\n",
    "        writer.writerow([u,v,w,x])\n",
    "    \n",
    "        "
   ]
  },
  {
   "cell_type": "code",
   "execution_count": null,
   "metadata": {},
   "outputs": [],
   "source": []
  },
  {
   "cell_type": "code",
   "execution_count": null,
   "metadata": {},
   "outputs": [],
   "source": []
  }
 ],
 "metadata": {
  "kernelspec": {
   "display_name": "Python 3",
   "language": "python",
   "name": "python3"
  },
  "language_info": {
   "codemirror_mode": {
    "name": "ipython",
    "version": 3
   },
   "file_extension": ".py",
   "mimetype": "text/x-python",
   "name": "python",
   "nbconvert_exporter": "python",
   "pygments_lexer": "ipython3",
   "version": "3.7.7"
  }
 },
 "nbformat": 4,
 "nbformat_minor": 2
}
